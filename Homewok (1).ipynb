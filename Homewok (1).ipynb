{
  "nbformat": 4,
  "nbformat_minor": 0,
  "metadata": {
    "colab": {
      "provenance": []
    },
    "kernelspec": {
      "name": "python3",
      "display_name": "Python 3"
    },
    "language_info": {
      "name": "python"
    }
  },
  "cells": [
    {
      "cell_type": "code",
      "source": [
        "\n"
      ],
      "metadata": {
        "id": "vuLTvfDFHVyF"
      },
      "execution_count": null,
      "outputs": []
    },
    {
      "cell_type": "markdown",
      "source": [
        "## Name : Kamaleshwar Viyanwar\n",
        "## Batch : C3\n",
        "\n",
        "\n",
        "\n"
      ],
      "metadata": {
        "id": "q71hGYTJaN02"
      }
    },
    {
      "cell_type": "code",
      "source": [
        "import requests\n",
        "import pdb"
      ],
      "metadata": {
        "id": "QJa0opunaYJf"
      },
      "execution_count": 14,
      "outputs": []
    },
    {
      "cell_type": "code",
      "source": [
        "def clean_and_process_city_list(city_input):\n",
        "    return [city.strip().title() for city in city_input.split(\",\") if city.strip()]\n",
        "\n",
        "\n",
        "city_input = input(\"Enter city names separated by commas: \")\n",
        "cities = clean_and_process_city_list(city_input)\n",
        "print(\"Processed cities:\", cities)\n"
      ],
      "metadata": {
        "colab": {
          "base_uri": "https://localhost:8080/"
        },
        "id": "ElQX1nQBaw2y",
        "outputId": "3c332de4-24a1-4f56-e63c-4c5de713980d"
      },
      "execution_count": 35,
      "outputs": [
        {
          "output_type": "stream",
          "name": "stdout",
          "text": [
            "Enter city names separated by commas: Nagpur,Mumbai,Pune\n",
            "Processed cities: ['Nagpur', 'Mumbai', 'Pune']\n"
          ]
        }
      ]
    },
    {
      "cell_type": "code",
      "source": [
        "import requests\n",
        "\n",
        "API_KEY = \"1356fc7183af458daed83348252606\"\n",
        "\n",
        "def get_weather(city):\n",
        "    try:\n",
        "        url = f\"http://api.openweathermap.org/data/2.5/weather?q={city}&appid={API_KEY}&units=metric\"\n",
        "        response = requests.get(url)\n",
        "        response.raise_for_status()\n",
        "        data = response.json()\n",
        "        return data['main']['temp']\n",
        "\n",
        "    except Exception as e:\n",
        "        print(f\"Error fetching data for {city}: {e}\")\n",
        "        return None\n",
        "\n",
        "# Test it:\n",
        "temp = get_weather(\"Nagpur\")\n",
        "if temp is not None:\n",
        "    print(f\"Nagpur Temperature: {temp}°C\")\n",
        "else:\n",
        "    print(\"Could not fetch temperature.\")\n"
      ],
      "metadata": {
        "colab": {
          "base_uri": "https://localhost:8080/"
        },
        "id": "VijzO2fZa3K0",
        "outputId": "f5dc1a35-94c2-473c-ad65-d0662b89f9a3"
      },
      "execution_count": 36,
      "outputs": [
        {
          "output_type": "stream",
          "name": "stdout",
          "text": [
            "Error fetching data for Nagpur: 401 Client Error: Unauthorized for url: http://api.openweathermap.org/data/2.5/weather?q=Nagpur&appid=1356fc7183af458daed83348252606&units=metric\n",
            "Could not fetch temperature.\n"
          ]
        }
      ]
    },
    {
      "cell_type": "code",
      "source": [
        "\n",
        "city_temperatures = [(\"Nagpur\", 34), (\"Pune\", 28), (\"Mumbai\", 32)]\n",
        "\n",
        "\n",
        "hot_cities = [city for city, temp in city_temperatures if temp > 30]\n",
        "\n",
        "print(\"Cities with temperature above 30°C:\", hot_cities)\n"
      ],
      "metadata": {
        "colab": {
          "base_uri": "https://localhost:8080/"
        },
        "id": "uOCZ2bBlj511",
        "outputId": "839ee480-b19b-4672-a944-26faff034a50"
      },
      "execution_count": 28,
      "outputs": [
        {
          "output_type": "stream",
          "name": "stdout",
          "text": [
            "Cities with temperature above 30°C: ['Nagpur', 'Mumbai']\n"
          ]
        }
      ]
    },
    {
      "cell_type": "code",
      "source": [
        "\n",
        "city_temperatures = [(\"Nagpur\", 34), (\"Pune\", 28), (\"Mumbai\", 32)]\n",
        "\n",
        "\n",
        "print(\"First city in list:\", city_temperatures[0])\n",
        "print(\"Last city in list:\", city_temperatures[-1])\n",
        "\n",
        "\n",
        "print(\"Cities from index 1 to 2:\", city_temperatures[1:3])\n"
      ],
      "metadata": {
        "colab": {
          "base_uri": "https://localhost:8080/"
        },
        "id": "nlEbnUjVj6dB",
        "outputId": "f17969e7-db04-4976-eda5-e9109e55253b"
      },
      "execution_count": 29,
      "outputs": [
        {
          "output_type": "stream",
          "name": "stdout",
          "text": [
            "First city in list: ('Nagpur', 34)\n",
            "Last city in list: ('Mumbai', 32)\n",
            "Cities from index 1 to 2: [('Pune', 28), ('Mumbai', 32)]\n"
          ]
        }
      ]
    },
    {
      "cell_type": "code",
      "source": [
        "city_temperatures = [(\"Nagpur\", 34), (\"Pune\", 28), (\"Mumbai\", 32), (\"Pune\", 28)]\n",
        "\n",
        "\n",
        "unique_cities = set(city for city, temp in city_temperatures)\n",
        "\n",
        "print(\"Unique Cities Set:\", unique_cities)\n"
      ],
      "metadata": {
        "colab": {
          "base_uri": "https://localhost:8080/"
        },
        "id": "u7OeDXATkApo",
        "outputId": "cd6cab32-8670-47a1-d4d6-b8fc145a2bc4"
      },
      "execution_count": 30,
      "outputs": [
        {
          "output_type": "stream",
          "name": "stdout",
          "text": [
            "Unique Cities Set: {'Mumbai', 'Pune', 'Nagpur'}\n"
          ]
        }
      ]
    },
    {
      "cell_type": "code",
      "source": [
        "\n",
        "city_temperatures = [(\"Nagpur\", 34), (\"Pune\", 28), (\"Mumbai\", 32)]\n",
        "\n",
        "\n",
        "for city, temp in city_temperatures:\n",
        "    if temp > 35:\n",
        "        category = \"Very Hot\"\n",
        "    elif temp > 30:\n",
        "        category = \"Hot\"\n",
        "    elif temp > 25:\n",
        "        category = \"Warm\"\n",
        "    else:\n",
        "        category = \"Pleasant\"\n",
        "\n",
        "    print(f\"{city}: {temp}°C - {category}\")\n"
      ],
      "metadata": {
        "colab": {
          "base_uri": "https://localhost:8080/"
        },
        "id": "gwlGv8yvkF9w",
        "outputId": "3c91bbad-ef02-4c06-b754-f9140141f260"
      },
      "execution_count": 31,
      "outputs": [
        {
          "output_type": "stream",
          "name": "stdout",
          "text": [
            "Nagpur: 34°C - Hot\n",
            "Pune: 28°C - Warm\n",
            "Mumbai: 32°C - Hot\n"
          ]
        }
      ]
    },
    {
      "cell_type": "code",
      "source": [
        "import pdb\n",
        "\n",
        "city_temperatures = [(\"Nagpur\", 34), (\"Pune\", 28), (\"Mumbai\", 32)]\n",
        "\n",
        "\n",
        "pdb.set_trace()\n",
        "\n",
        "\n",
        "for city, temp in city_temperatures:\n",
        "    if temp > 35:\n",
        "        category = \"Very Hot\"\n",
        "    elif temp > 30:\n",
        "        category = \"Hot\"\n",
        "    elif temp > 25:\n",
        "        category = \"Warm\"\n",
        "    else:\n",
        "        category = \"Pleasant\"\n",
        "\n",
        "    print(\"Current city_temperatures list:\", city_temperatures)\n"
      ],
      "metadata": {
        "colab": {
          "base_uri": "https://localhost:8080/"
        },
        "id": "LibjD1nykLXc",
        "outputId": "9f9b8813-bc45-4616-edfe-5c99cf6c1550"
      },
      "execution_count": 33,
      "outputs": [
        {
          "name": "stdout",
          "output_type": "stream",
          "text": [
            "--Return--\n",
            "None\n",
            "> \u001b[0;32m/tmp/ipython-input-33-3126718158.py\u001b[0m(7)\u001b[0;36m<cell line: 0>\u001b[0;34m()\u001b[0m\n",
            "\u001b[0;32m      5 \u001b[0;31m\u001b[0;34m\u001b[0m\u001b[0m\n",
            "\u001b[0m\u001b[0;32m      6 \u001b[0;31m\u001b[0;31m# Debugging inspection point\u001b[0m\u001b[0;34m\u001b[0m\u001b[0;34m\u001b[0m\u001b[0m\n",
            "\u001b[0m\u001b[0;32m----> 7 \u001b[0;31m\u001b[0mpdb\u001b[0m\u001b[0;34m.\u001b[0m\u001b[0mset_trace\u001b[0m\u001b[0;34m(\u001b[0m\u001b[0;34m)\u001b[0m\u001b[0;34m\u001b[0m\u001b[0;34m\u001b[0m\u001b[0m\n",
            "\u001b[0m\u001b[0;32m      8 \u001b[0;31m\u001b[0;34m\u001b[0m\u001b[0m\n",
            "\u001b[0m\u001b[0;32m      9 \u001b[0;31m\u001b[0;31m# Loop through and classify\u001b[0m\u001b[0;34m\u001b[0m\u001b[0;34m\u001b[0m\u001b[0m\n",
            "\u001b[0m\n",
            "ipdb> c\n"
          ]
        },
        {
          "output_type": "stream",
          "name": "stderr",
          "text": [
            "\n",
            "PYDEV DEBUGGER WARNING:\n",
            "sys.settrace() should not be used when the debugger is being used.\n",
            "This may cause the debugger to stop working correctly.\n",
            "If this is needed, please check: \n",
            "http://pydev.blogspot.com/2007/06/why-cant-pydev-debugger-work-with.html\n",
            "to see how to restore the debug tracing back correctly.\n",
            "Call Location:\n",
            "  File \"/usr/lib/python3.11/bdb.py\", line 347, in set_continue\n",
            "    sys.settrace(None)\n",
            "\n"
          ]
        },
        {
          "output_type": "stream",
          "name": "stdout",
          "text": [
            "Current city_temperatures list: [('Nagpur', 34), ('Pune', 28), ('Mumbai', 32)]\n",
            "Current city_temperatures list: [('Nagpur', 34), ('Pune', 28), ('Mumbai', 32)]\n",
            "Current city_temperatures list: [('Nagpur', 34), ('Pune', 28), ('Mumbai', 32)]\n"
          ]
        }
      ]
    },
    {
      "cell_type": "code",
      "source": [
        "import requests\n",
        "\n",
        "API_KEY = \"1356fc7183af458daed83348252606\"\n",
        "\n",
        "def clean(city_input):\n",
        "    return [c.strip().title() for c in city_input.split(\",\") if c.strip()]\n",
        "\n",
        "def temp(city):\n",
        "    try:\n",
        "        url = f\"http://api.weatherapi.com/v1/current.json?key={API_KEY}&q={city}&aqi=no\"\n",
        "        r = requests.get(url)\n",
        "        r.raise_for_status()\n",
        "        d = r.json()\n",
        "        return d['current']['temp_c']\n",
        "    except:\n",
        "        print(f\"error for {city}\")\n",
        "        return None\n",
        "\n",
        "def main():\n",
        "    cities = clean(input(\"cities: \"))\n",
        "    print(\"cities:\", cities)\n",
        "\n",
        "    data = []\n",
        "    for c in cities:\n",
        "        t = temp(c)\n",
        "        if t != None:\n",
        "            data.append((c, t))\n",
        "\n",
        "    print(\"\\ntemps:\")\n",
        "    for i in data:\n",
        "        print(i)\n",
        "\n",
        "    if data:\n",
        "        print(\"\\nfirst:\", data[0])\n",
        "        print(\"last:\", data[-1])\n",
        "        print(\"1-3:\", data[1:4])\n",
        "\n",
        "    u = set(c for c, t in data)\n",
        "    print(\"\\nunique:\", u)\n",
        "\n",
        "    hot = [c for c, t in data if t > 30]\n",
        "    print(\"\\nhot:\", hot)\n",
        "\n",
        "    print(\"\\nlabels:\")\n",
        "    for c, t in data:\n",
        "        if t > 35:\n",
        "            l = \"🔥\"\n",
        "        elif t > 30:\n",
        "            l = \"hot\"\n",
        "        elif t > 25:\n",
        "            l = \"warm\"\n",
        "        else:\n",
        "            l = \"ok\"\n",
        "        print(f\"{c}: {t}°C - {l}\")\n",
        "\n",
        "    breakpoint()\n",
        "\n",
        "if __name__ == \"__main__\":\n",
        "    main()\n"
      ],
      "metadata": {
        "colab": {
          "base_uri": "https://localhost:8080/"
        },
        "id": "imncsGITpSUh",
        "outputId": "cc3da191-e6d6-4f4e-86be-90a58681d020"
      },
      "execution_count": 38,
      "outputs": [
        {
          "name": "stdout",
          "output_type": "stream",
          "text": [
            "cities: Nagpur, Mumbai, Pune\n",
            "cities: ['Nagpur', 'Mumbai', 'Pune']\n",
            "\n",
            "temps:\n",
            "('Nagpur', 29.0)\n",
            "('Mumbai', 27.0)\n",
            "('Pune', 25.0)\n",
            "\n",
            "first: ('Nagpur', 29.0)\n",
            "last: ('Pune', 25.0)\n",
            "1-3: [('Mumbai', 27.0), ('Pune', 25.0)]\n",
            "\n",
            "unique: {'Mumbai', 'Pune', 'Nagpur'}\n",
            "\n",
            "hot: []\n",
            "\n",
            "labels:\n",
            "Nagpur: 29.0°C - warm\n",
            "Mumbai: 27.0°C - warm\n",
            "Pune: 25.0°C - ok\n",
            "--Return--\n",
            "None\n",
            "> \u001b[0;32m/tmp/ipython-input-38-3619132265.py\u001b[0m(56)\u001b[0;36mmain\u001b[0;34m()\u001b[0m\n",
            "\u001b[0;32m     54 \u001b[0;31m        \u001b[0mprint\u001b[0m\u001b[0;34m(\u001b[0m\u001b[0;34mf\"{c}: {t}°C - {l}\"\u001b[0m\u001b[0;34m)\u001b[0m\u001b[0;34m\u001b[0m\u001b[0;34m\u001b[0m\u001b[0m\n",
            "\u001b[0m\u001b[0;32m     55 \u001b[0;31m\u001b[0;34m\u001b[0m\u001b[0m\n",
            "\u001b[0m\u001b[0;32m---> 56 \u001b[0;31m    \u001b[0mbreakpoint\u001b[0m\u001b[0;34m(\u001b[0m\u001b[0;34m)\u001b[0m\u001b[0;34m\u001b[0m\u001b[0;34m\u001b[0m\u001b[0m\n",
            "\u001b[0m\u001b[0;32m     57 \u001b[0;31m\u001b[0;34m\u001b[0m\u001b[0m\n",
            "\u001b[0m\u001b[0;32m     58 \u001b[0;31m\u001b[0;32mif\u001b[0m \u001b[0m__name__\u001b[0m \u001b[0;34m==\u001b[0m \u001b[0;34m\"__main__\"\u001b[0m\u001b[0;34m:\u001b[0m\u001b[0;34m\u001b[0m\u001b[0;34m\u001b[0m\u001b[0m\n",
            "\u001b[0m\n",
            "ipdb> c\n"
          ]
        }
      ]
    }
  ]
}